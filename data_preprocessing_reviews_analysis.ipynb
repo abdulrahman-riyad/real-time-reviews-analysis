{
  "nbformat": 4,
  "nbformat_minor": 0,
  "metadata": {
    "colab": {
      "provenance": [],
      "authorship_tag": "ABX9TyP5j8qkn5O1Gehcnj1dZI31",
      "include_colab_link": true
    },
    "kernelspec": {
      "name": "python3",
      "display_name": "Python 3"
    },
    "language_info": {
      "name": "python"
    }
  },
  "cells": [
    {
      "cell_type": "markdown",
      "metadata": {
        "id": "view-in-github",
        "colab_type": "text"
      },
      "source": [
        "<a href=\"https://colab.research.google.com/github/abdulrahman-riyad/real-time-reviews-analysis/blob/Approach2/data_preprocessing_reviews_analysis.ipynb\" target=\"_parent\"><img src=\"https://colab.research.google.com/assets/colab-badge.svg\" alt=\"Open In Colab\"/></a>"
      ]
    },
    {
      "cell_type": "code",
      "execution_count": 1,
      "metadata": {
        "colab": {
          "base_uri": "https://localhost:8080/"
        },
        "id": "fz2RLDYKr7Vr",
        "outputId": "22891392-f5cf-4f06-9faa-c4cc090f6a82"
      },
      "outputs": [
        {
          "output_type": "stream",
          "name": "stdout",
          "text": [
            "Drive already mounted at /content/drive; to attempt to forcibly remount, call drive.mount(\"/content/drive\", force_remount=True).\n"
          ]
        }
      ],
      "source": [
        "from google.colab import drive\n",
        "drive.mount('/content/drive')\n",
        "\n",
        "project_path = '/content/drive/My Drive/reviews_analysis_project'"
      ]
    },
    {
      "cell_type": "markdown",
      "source": [
        "# GitHub Setup"
      ],
      "metadata": {
        "id": "bUIM4EUU5fss"
      }
    },
    {
      "cell_type": "code",
      "source": [
        "!git clone https://github.com/abdulrahman-riyad/real-time-reviews-analysis.git"
      ],
      "metadata": {
        "colab": {
          "base_uri": "https://localhost:8080/"
        },
        "id": "gNEOdPhUuOki",
        "outputId": "d6b255ff-1e03-49df-d010-5fed4d3c9801"
      },
      "execution_count": 2,
      "outputs": [
        {
          "output_type": "stream",
          "name": "stdout",
          "text": [
            "fatal: destination path 'real-time-reviews-analysis' already exists and is not an empty directory.\n"
          ]
        }
      ]
    },
    {
      "cell_type": "code",
      "source": [
        "%cd real-time-reviews-analysis"
      ],
      "metadata": {
        "colab": {
          "base_uri": "https://localhost:8080/"
        },
        "id": "ZOcgdK1nu2oF",
        "outputId": "e149ffe0-4884-4d9e-e177-cfb6de716857"
      },
      "execution_count": 3,
      "outputs": [
        {
          "output_type": "stream",
          "name": "stdout",
          "text": [
            "/content/real-time-reviews-analysis\n"
          ]
        }
      ]
    },
    {
      "cell_type": "code",
      "source": [
        "!git checkout Approach2"
      ],
      "metadata": {
        "colab": {
          "base_uri": "https://localhost:8080/"
        },
        "id": "AErDCL6m52CH",
        "outputId": "b40fd61f-4795-4cf2-e969-a6a5d0cbaa48"
      },
      "execution_count": 21,
      "outputs": [
        {
          "output_type": "stream",
          "name": "stdout",
          "text": [
            "Branch 'Approach2' set up to track remote branch 'Approach2' from 'origin'.\n",
            "Switched to a new branch 'Approach2'\n"
          ]
        }
      ]
    },
    {
      "cell_type": "code",
      "source": [
        "!cp \"/content/drive/My Drive/Colab Notebooks/data_preprocessing_reviews_analysis.ipynb\" /content/real-time-reviews-analysis/DataPrep_MLFineTuning2"
      ],
      "metadata": {
        "id": "pNWsWtnc8LX-"
      },
      "execution_count": 23,
      "outputs": []
    },
    {
      "cell_type": "code",
      "source": [
        "!git config --global user.email \"shahdammar413@gmail.com\"\n",
        "!git config --global user.name \"ShahdAmmar\""
      ],
      "metadata": {
        "id": "PC9Iw5fc54Ga"
      },
      "execution_count": 8,
      "outputs": []
    },
    {
      "cell_type": "code",
      "source": [
        "!git add data_preprocessing_reviews_analysis.ipynb\n",
        "!git commit -m \"Add data preprocessing notebook to Approach2 branch\"\n",
        "!git push --force"
      ],
      "metadata": {
        "colab": {
          "base_uri": "https://localhost:8080/"
        },
        "id": "TRD65YNWHIhw",
        "outputId": "64c98984-49a4-4d5e-96bf-e791a2a61dca"
      },
      "execution_count": 29,
      "outputs": [
        {
          "output_type": "stream",
          "name": "stdout",
          "text": [
            "On branch Approach2\n",
            "Your branch is up to date with 'origin/Approach2'.\n",
            "\n",
            "Last command done (1 command done):\n",
            "   pick 32b5b6d nothing\n",
            "Next commands to do (4 remaining commands):\n",
            "   pick c0255fb we are ready to go\n",
            "   pick 1da9697 approach 2\n",
            "  (use \"git rebase --edit-todo\" to view and edit)\n",
            "You are currently editing a commit while rebasing branch 'Approach2' on '77d5da3'.\n",
            "  (use \"git commit --amend\" to amend the current commit)\n",
            "  (use \"git rebase --continue\" once you are satisfied with your changes)\n",
            "\n",
            "nothing to commit, working tree clean\n",
            "Everything up-to-date\n"
          ]
        }
      ]
    }
  ]
}